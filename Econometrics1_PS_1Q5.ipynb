{
 "cells": [
  {
   "cell_type": "markdown",
   "metadata": {},
   "source": [
    "## Taneth Germishuys - Economentrics 1 - PS 1\n",
    "## Question 5"
   ]
  },
  {
   "cell_type": "markdown",
   "metadata": {},
   "source": [
    "## Part a"
   ]
  },
  {
   "cell_type": "code",
   "execution_count": 14,
   "metadata": {},
   "outputs": [],
   "source": [
    "import pandas as pd\n",
    "import numpy as np\n",
    "import statsmodels.api as sm\n",
    "from statsmodels.stats.anova import anova_lm"
   ]
  },
  {
   "cell_type": "code",
   "execution_count": 15,
   "metadata": {},
   "outputs": [],
   "source": [
    "# Load the dataset\n",
    "data = pd.read_csv('ps1small.csv')"
   ]
  },
  {
   "cell_type": "code",
   "execution_count": 16,
   "metadata": {},
   "outputs": [],
   "source": [
    "# Create the variable lwage=log(wage)\n",
    "data['lwage'] = np.log(data['wage'])"
   ]
  },
  {
   "cell_type": "code",
   "execution_count": 17,
   "metadata": {},
   "outputs": [
    {
     "name": "stdout",
     "output_type": "stream",
     "text": [
      "    wage  education  age      lwage\n",
      "0  30000         17   30  10.308953\n",
      "1  16000         12   27   9.680344\n",
      "2  43500         17   28  10.680516\n",
      "3  18000         12   30   9.798127\n",
      "4  25000         17   27  10.126631\n"
     ]
    }
   ],
   "source": [
    "# To verify the addition\n",
    "print(data.head(5))"
   ]
  },
  {
   "cell_type": "code",
   "execution_count": 18,
   "metadata": {},
   "outputs": [
    {
     "name": "stdout",
     "output_type": "stream",
     "text": [
      "    wage  education  age      lwage edu_age  d1226  d1227  d1228  d1229  \\\n",
      "0  30000         17   30  10.308953    1730      0      0      0      0   \n",
      "1  16000         12   27   9.680344    1227      0      1      0      0   \n",
      "2  43500         17   28  10.680516    1728      0      0      0      0   \n",
      "3  18000         12   30   9.798127    1230      0      0      0      0   \n",
      "4  25000         17   27  10.126631    1727      0      0      0      0   \n",
      "\n",
      "   d1230  ...  d1626  d1627  d1628  d1629  d1630  d1726  d1727  d1728  d1729  \\\n",
      "0      0  ...      0      0      0      0      0      0      0      0      0   \n",
      "1      0  ...      0      0      0      0      0      0      0      0      0   \n",
      "2      0  ...      0      0      0      0      0      0      0      1      0   \n",
      "3      1  ...      0      0      0      0      0      0      0      0      0   \n",
      "4      0  ...      0      0      0      0      0      0      1      0      0   \n",
      "\n",
      "   d1730  \n",
      "0      1  \n",
      "1      0  \n",
      "2      0  \n",
      "3      0  \n",
      "4      0  \n",
      "\n",
      "[5 rows x 35 columns]\n"
     ]
    }
   ],
   "source": [
    "# Generating Dummies\n",
    "# Create a combined education and age column to generate dummies\n",
    "data['edu_age'] = data['education'].astype(str) + data['age'].astype(str)\n",
    "\n",
    "# Create dummies for the unique combinations of education and age\n",
    "dummies = pd.get_dummies(data['edu_age'], prefix='d')\n",
    "\n",
    "# Convert True/False to 1/0 by casting the dummies to integers\n",
    "dummies = dummies.astype(int)\n",
    "\n",
    "# Ensure underscores are removed properly in the column names\n",
    "dummies.columns = dummies.columns.str.replace(r'_+', '', regex=True)\n",
    "\n",
    "# Concatenate the dummy variables with the original dataset\n",
    "data = pd.concat([data, dummies], axis=1)\n",
    "\n",
    "# Display the first few rows to verify\n",
    "print(data.head())"
   ]
  },
  {
   "cell_type": "code",
   "execution_count": 19,
   "metadata": {},
   "outputs": [
    {
     "name": "stdout",
     "output_type": "stream",
     "text": [
      "                            OLS Regression Results                            \n",
      "==============================================================================\n",
      "Dep. Variable:                  lwage   R-squared:                       0.089\n",
      "Model:                            OLS   Adj. R-squared:                  0.059\n",
      "Method:                 Least Squares   F-statistic:                     2.938\n",
      "Date:                Wed, 16 Oct 2024   Prob (F-statistic):           4.90e-07\n",
      "Time:                        15:08:52   Log-Likelihood:                -1099.1\n",
      "No. Observations:                 898   AIC:                             2258.\n",
      "Df Residuals:                     868   BIC:                             2402.\n",
      "Df Model:                          29                                         \n",
      "Covariance Type:            nonrobust                                         \n",
      "==============================================================================\n",
      "                 coef    std err          t      P>|t|      [0.025      0.975]\n",
      "------------------------------------------------------------------------------\n",
      "d1226          9.4513      0.091    104.112      0.000       9.273       9.629\n",
      "d1227          9.3004      0.085    109.443      0.000       9.134       9.467\n",
      "d1228          9.5379      0.083    114.527      0.000       9.374       9.701\n",
      "d1229          9.3858      0.085    109.877      0.000       9.218       9.553\n",
      "d1230          9.6283      0.088    109.741      0.000       9.456       9.801\n",
      "d1326          9.6121      0.192     50.060      0.000       9.235       9.989\n",
      "d1327          9.7559      0.192     50.809      0.000       9.379      10.133\n",
      "d1328          9.3782      0.175     53.738      0.000       9.036       9.721\n",
      "d1329          9.8200      0.224     43.901      0.000       9.381      10.259\n",
      "d1330          9.4465      0.203     46.536      0.000       9.048       9.845\n",
      "d1426          9.5807      0.224     42.831      0.000       9.142      10.020\n",
      "d1427          9.7944      0.171     57.330      0.000       9.459      10.130\n",
      "d1428          9.6422      0.216     44.619      0.000       9.218      10.066\n",
      "d1429          9.7122      0.175     55.652      0.000       9.370      10.055\n",
      "d1430          9.6454      0.171     56.458      0.000       9.310       9.981\n",
      "d1526          9.5346      0.242     39.463      0.000       9.060      10.009\n",
      "d1527          9.3856      0.232     40.433      0.000       8.930       9.841\n",
      "d1528          9.5732      0.265     36.170      0.000       9.054      10.093\n",
      "d1529          9.5404      0.252     37.806      0.000       9.045      10.036\n",
      "d1530          9.9195      0.242     41.056      0.000       9.445      10.394\n",
      "d1626         10.0705      0.167     60.162      0.000       9.742      10.399\n",
      "d1627          9.9444      0.187     53.137      0.000       9.577      10.312\n",
      "d1628          9.9920      0.148     67.534      0.000       9.702      10.282\n",
      "d1629         10.1785      0.131     77.871      0.000       9.922      10.435\n",
      "d1630         10.0706      0.164     61.354      0.000       9.748      10.393\n",
      "d1726          9.9583      0.483     20.608      0.000       9.010      10.907\n",
      "d1727         10.0458      0.224     44.910      0.000       9.607      10.485\n",
      "d1728         10.1656      0.296     34.354      0.000       9.585      10.746\n",
      "d1729          9.6176      0.418     22.982      0.000       8.796      10.439\n",
      "d1730         10.0160      0.374     26.759      0.000       9.281      10.751\n",
      "==============================================================================\n",
      "Omnibus:                      515.749   Durbin-Watson:                   1.963\n",
      "Prob(Omnibus):                  0.000   Jarque-Bera (JB):             6146.047\n",
      "Skew:                          -2.389   Prob(JB):                         0.00\n",
      "Kurtosis:                      14.893   Cond. No.                         5.80\n",
      "==============================================================================\n",
      "\n",
      "Notes:\n",
      "[1] Standard Errors assume that the covariance matrix of the errors is correctly specified.\n"
     ]
    }
   ],
   "source": [
    "# Running the regression\n",
    "\n",
    "# Setting variables\n",
    "X = dummies\n",
    "y = data['lwage']\n",
    "\n",
    "# Run the OLS regression\n",
    "model = sm.OLS(y, X)\n",
    "results = model.fit()\n",
    "\n",
    "# Print the summary of the regression results\n",
    "print(results.summary())\n"
   ]
  },
  {
   "cell_type": "code",
   "execution_count": 20,
   "metadata": {},
   "outputs": [
    {
     "name": "stdout",
     "output_type": "stream",
     "text": [
      "Residual Sum of Squares (RSS): 608.0274467373473\n"
     ]
    }
   ],
   "source": [
    "# Manually calculate the residual sum of squares (RSS)\n",
    "rss = sum(results.resid ** 2)\n",
    "print(f\"Residual Sum of Squares (RSS): {rss}\")"
   ]
  },
  {
   "cell_type": "code",
   "execution_count": 21,
   "metadata": {},
   "outputs": [
    {
     "name": "stdout",
     "output_type": "stream",
     "text": [
      "       Coefficient  Standard Error\n",
      "d1226     9.451320        0.090780\n",
      "d1227     9.300426        0.084980\n",
      "d1228     9.537856        0.083280\n",
      "d1229     9.385826        0.085421\n",
      "d1230     9.628323        0.087737\n",
      "d1326     9.612120        0.192010\n",
      "d1327     9.755901        0.192010\n",
      "d1328     9.378158        0.174517\n",
      "d1329     9.819982        0.223685\n",
      "d1330     9.446488        0.202991\n",
      "d1426     9.580658        0.223685\n",
      "d1427     9.794423        0.170843\n",
      "d1428     9.642237        0.216101\n",
      "d1429     9.712199        0.174517\n",
      "d1430     9.645440        0.170843\n",
      "d1526     9.534555        0.241608\n",
      "d1527     9.385619        0.232129\n",
      "d1528     9.573155        0.264668\n",
      "d1529     9.540361        0.252351\n",
      "d1530     9.919473        0.241608\n",
      "d1626    10.070500        0.167391\n",
      "d1627     9.944426        0.187149\n",
      "d1628     9.991987        0.147954\n",
      "d1629    10.178524        0.130710\n",
      "d1630    10.070591        0.164140\n",
      "d1726     9.958317        0.483216\n",
      "d1727    10.045760        0.223685\n",
      "d1728    10.165648        0.295908\n",
      "d1729     9.617564        0.418477\n",
      "d1730    10.015981        0.374297\n"
     ]
    }
   ],
   "source": [
    "# Get the coefficients (params) and standard errors (bse)\n",
    "coefficients = results.params\n",
    "standard_errors = results.bse\n",
    "\n",
    "# Combine the two into a Pandas DataFrame\n",
    "coef_se_pairs = pd.DataFrame({\n",
    "    'Coefficient': coefficients,\n",
    "    'Standard Error': standard_errors\n",
    "})\n",
    "\n",
    "# Print the DataFrame\n",
    "print(coef_se_pairs)"
   ]
  },
  {
   "cell_type": "markdown",
   "metadata": {},
   "source": [
    "## Part b"
   ]
  },
  {
   "cell_type": "code",
   "execution_count": 22,
   "metadata": {},
   "outputs": [
    {
     "name": "stdout",
     "output_type": "stream",
     "text": [
      "                            OLS Regression Results                            \n",
      "==============================================================================\n",
      "Dep. Variable:                  lwage   R-squared:                       0.089\n",
      "Model:                            OLS   Adj. R-squared:                  0.059\n",
      "Method:                 Least Squares   F-statistic:                     2.938\n",
      "Date:                Wed, 16 Oct 2024   Prob (F-statistic):           4.90e-07\n",
      "Time:                        15:08:52   Log-Likelihood:                -1099.1\n",
      "No. Observations:                 898   AIC:                             2258.\n",
      "Df Residuals:                     868   BIC:                             2402.\n",
      "Df Model:                          29                                         \n",
      "Covariance Type:            nonrobust                                         \n",
      "==============================================================================\n",
      "                 coef    std err          t      P>|t|      [0.025      0.975]\n",
      "------------------------------------------------------------------------------\n",
      "d1226          9.4513      0.091    104.112      0.000       9.273       9.629\n",
      "d1227          9.3004      0.085    109.443      0.000       9.134       9.467\n",
      "d1228          9.5379      0.083    114.527      0.000       9.374       9.701\n",
      "d1229          9.3858      0.085    109.877      0.000       9.218       9.553\n",
      "d1230          9.6283      0.088    109.741      0.000       9.456       9.801\n",
      "d1326          9.6121      0.192     50.060      0.000       9.235       9.989\n",
      "d1327          9.7559      0.192     50.809      0.000       9.379      10.133\n",
      "d1328          9.3782      0.175     53.738      0.000       9.036       9.721\n",
      "d1329          9.8200      0.224     43.901      0.000       9.381      10.259\n",
      "d1330          9.4465      0.203     46.536      0.000       9.048       9.845\n",
      "d1426          9.5807      0.224     42.831      0.000       9.142      10.020\n",
      "d1427          9.7944      0.171     57.330      0.000       9.459      10.130\n",
      "d1428          9.6422      0.216     44.619      0.000       9.218      10.066\n",
      "d1429          9.7122      0.175     55.652      0.000       9.370      10.055\n",
      "d1430          9.6454      0.171     56.458      0.000       9.310       9.981\n",
      "d1526          9.5346      0.242     39.463      0.000       9.060      10.009\n",
      "d1527          9.3856      0.232     40.433      0.000       8.930       9.841\n",
      "d1528          9.5732      0.265     36.170      0.000       9.054      10.093\n",
      "d1529          9.5404      0.252     37.806      0.000       9.045      10.036\n",
      "d1530          9.9195      0.242     41.056      0.000       9.445      10.394\n",
      "d1626         10.0705      0.167     60.162      0.000       9.742      10.399\n",
      "d1627          9.9444      0.187     53.137      0.000       9.577      10.312\n",
      "d1628          9.9920      0.148     67.534      0.000       9.702      10.282\n",
      "d1629         10.1785      0.131     77.871      0.000       9.922      10.435\n",
      "d1630         10.0706      0.164     61.354      0.000       9.748      10.393\n",
      "d1726          9.9583      0.483     20.608      0.000       9.010      10.907\n",
      "d1727         10.0458      0.224     44.910      0.000       9.607      10.485\n",
      "d1728         10.1656      0.296     34.354      0.000       9.585      10.746\n",
      "d1729          9.6176      0.418     22.982      0.000       8.796      10.439\n",
      "d1730         10.0160      0.374     26.759      0.000       9.281      10.751\n",
      "==============================================================================\n",
      "Omnibus:                      515.749   Durbin-Watson:                   1.963\n",
      "Prob(Omnibus):                  0.000   Jarque-Bera (JB):             6146.047\n",
      "Skew:                          -2.389   Prob(JB):                         0.00\n",
      "Kurtosis:                      14.893   Cond. No.                         5.80\n",
      "==============================================================================\n",
      "\n",
      "Notes:\n",
      "[1] Standard Errors assume that the covariance matrix of the errors is correctly specified.\n"
     ]
    }
   ],
   "source": [
    "# Unrestricted Model (with 30 dummy variables)\n",
    "X_unrestricted = dummies  # Assuming 'dummies' contains the 30 dummy variables for education-age combinations\n",
    "y = data['lwage']  # Dependent variable (log(wage))\n",
    "\n",
    "# Fit the unrestricted model\n",
    "unrestricted_model = sm.OLS(y, X_unrestricted)\n",
    "unrestricted_results = unrestricted_model.fit()\n",
    "\n",
    "# Print results\n",
    "print(unrestricted_results.summary())\n",
    "\n"
   ]
  },
  {
   "cell_type": "code",
   "execution_count": 23,
   "metadata": {},
   "outputs": [
    {
     "name": "stdout",
     "output_type": "stream",
     "text": [
      "Residual Sum of Squares (RSS): 608.0274467373473\n"
     ]
    }
   ],
   "source": [
    "# Manually calculate the residual sum of squares (RSS)\n",
    "rss = sum(unrestricted_results.resid ** 2)\n",
    "print(f\"Residual Sum of Squares (RSS): {rss}\")"
   ]
  },
  {
   "cell_type": "code",
   "execution_count": 24,
   "metadata": {},
   "outputs": [
    {
     "name": "stdout",
     "output_type": "stream",
     "text": [
      "                            OLS Regression Results                            \n",
      "==============================================================================\n",
      "Dep. Variable:                  lwage   R-squared:                       0.064\n",
      "Model:                            OLS   Adj. R-squared:                  0.061\n",
      "Method:                 Least Squares   F-statistic:                     20.48\n",
      "Date:                Wed, 16 Oct 2024   Prob (F-statistic):           7.69e-13\n",
      "Time:                        15:08:52   Log-Likelihood:                -1111.3\n",
      "No. Observations:                 898   AIC:                             2231.\n",
      "Df Residuals:                     894   BIC:                             2250.\n",
      "Df Model:                           3                                         \n",
      "Covariance Type:            nonrobust                                         \n",
      "=======================================================================================\n",
      "                          coef    std err          t      P>|t|      [0.025      0.975]\n",
      "---------------------------------------------------------------------------------------\n",
      "const                   6.1075      4.647      1.314      0.189      -3.014      15.229\n",
      "education               0.1978      0.347      0.571      0.568      -0.482       0.878\n",
      "age                     0.0649      0.166      0.392      0.695      -0.260       0.390\n",
      "edu_age_interaction    -0.0025      0.012     -0.204      0.838      -0.027       0.022\n",
      "==============================================================================\n",
      "Omnibus:                      522.305   Durbin-Watson:                   1.967\n",
      "Prob(Omnibus):                  0.000   Jarque-Bera (JB):             6223.404\n",
      "Skew:                          -2.430   Prob(JB):                         0.00\n",
      "Kurtosis:                      14.946   Cond. No.                     6.34e+04\n",
      "==============================================================================\n",
      "\n",
      "Notes:\n",
      "[1] Standard Errors assume that the covariance matrix of the errors is correctly specified.\n",
      "[2] The condition number is large, 6.34e+04. This might indicate that there are\n",
      "strong multicollinearity or other numerical problems.\n"
     ]
    }
   ],
   "source": [
    "# Restricted Model (with linear education, age, and interaction)\n",
    "data['edu_age_interaction'] = data['education'] * data['age']\n",
    "X_restricted = data[['education', 'age', 'edu_age_interaction']]\n",
    "X_restricted = sm.add_constant(X_restricted)  # Add intercept\n",
    "\n",
    "# Fit the restricted model\n",
    "restricted_model = sm.OLS(y, X_restricted)\n",
    "restricted_results = restricted_model.fit()\n",
    "\n",
    "# Print results\n",
    "print(restricted_results.summary())"
   ]
  },
  {
   "cell_type": "code",
   "execution_count": 25,
   "metadata": {},
   "outputs": [
    {
     "name": "stdout",
     "output_type": "stream",
     "text": [
      "Residual Sum of Squares (RSS): 624.7819133989772\n"
     ]
    }
   ],
   "source": [
    "# Manually calculate the residual sum of squares (RSS)\n",
    "rss = sum(restricted_results.resid ** 2)\n",
    "print(f\"Residual Sum of Squares (RSS): {rss}\")"
   ]
  },
  {
   "cell_type": "code",
   "execution_count": 29,
   "metadata": {},
   "outputs": [
    {
     "name": "stdout",
     "output_type": "stream",
     "text": [
      "0.9044525095158016\n"
     ]
    }
   ],
   "source": [
    "# Calculate the F-statistic for comparing the two models\n",
    "RSS_unrestricted = 608.3\n",
    "q = 26\n",
    "RSS_restricted = 624.78\n",
    "n_k = 868\n",
    "\n",
    "f_stat = ((RSS_restricted-RSS_unrestricted)/q)/(RSS_unrestricted/n_k)\n",
    "print(f_stat)"
   ]
  },
  {
   "cell_type": "code",
   "execution_count": 31,
   "metadata": {},
   "outputs": [
    {
     "name": "stdout",
     "output_type": "stream",
     "text": [
      "Do not reject the null at 5% significant level\n"
     ]
    }
   ],
   "source": [
    "# Decision\n",
    "critical_value = 1.57\n",
    "if f_stat < 0.05:\n",
    "    print(\"Reject the null at 5% significance level\")\n",
    "else:\n",
    "    print(\"Do not reject the null at 5% significant level\")"
   ]
  }
 ],
 "metadata": {
  "kernelspec": {
   "display_name": ".venv",
   "language": "python",
   "name": "python3"
  },
  "language_info": {
   "codemirror_mode": {
    "name": "ipython",
    "version": 3
   },
   "file_extension": ".py",
   "mimetype": "text/x-python",
   "name": "python",
   "nbconvert_exporter": "python",
   "pygments_lexer": "ipython3",
   "version": "3.10.11"
  }
 },
 "nbformat": 4,
 "nbformat_minor": 2
}
