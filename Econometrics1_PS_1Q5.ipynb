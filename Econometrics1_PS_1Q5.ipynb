{
 "cells": [
  {
   "cell_type": "markdown",
   "metadata": {},
   "source": [
    "## Taneth Germishuys - Economentrics 1 - PS 1\n",
    "## Question 5"
   ]
  },
  {
   "cell_type": "markdown",
   "metadata": {},
   "source": [
    "## Part a"
   ]
  },
  {
   "cell_type": "code",
   "execution_count": 27,
   "metadata": {},
   "outputs": [],
   "source": [
    "import pandas as pd\n",
    "import numpy as np\n",
    "import statsmodels.api as sm\n",
    "from statsmodels.stats.anova import anova_lm"
   ]
  },
  {
   "cell_type": "code",
   "execution_count": 28,
   "metadata": {},
   "outputs": [],
   "source": [
    "# Load the dataset\n",
    "data = pd.read_csv('ps1small.csv')"
   ]
  },
  {
   "cell_type": "code",
   "execution_count": 29,
   "metadata": {},
   "outputs": [],
   "source": [
    "# Create the variable lwage=log(wage)\n",
    "data['lwage'] = np.log(data['wage'])"
   ]
  },
  {
   "cell_type": "code",
   "execution_count": 30,
   "metadata": {},
   "outputs": [
    {
     "name": "stdout",
     "output_type": "stream",
     "text": [
      "    wage  education  age      lwage\n",
      "0  30000         17   30  10.308953\n",
      "1  16000         12   27   9.680344\n",
      "2  43500         17   28  10.680516\n",
      "3  18000         12   30   9.798127\n",
      "4  25000         17   27  10.126631\n"
     ]
    }
   ],
   "source": [
    "# To verify the addition\n",
    "print(data.head(5))"
   ]
  },
  {
   "cell_type": "code",
   "execution_count": 31,
   "metadata": {},
   "outputs": [
    {
     "name": "stdout",
     "output_type": "stream",
     "text": [
      "    wage  education  age      lwage edu_age  d1226  d1227  d1228  d1229  \\\n",
      "0  30000         17   30  10.308953    1730      0      0      0      0   \n",
      "1  16000         12   27   9.680344    1227      0      1      0      0   \n",
      "2  43500         17   28  10.680516    1728      0      0      0      0   \n",
      "3  18000         12   30   9.798127    1230      0      0      0      0   \n",
      "4  25000         17   27  10.126631    1727      0      0      0      0   \n",
      "\n",
      "   d1230  ...  d1626  d1627  d1628  d1629  d1630  d1726  d1727  d1728  d1729  \\\n",
      "0      0  ...      0      0      0      0      0      0      0      0      0   \n",
      "1      0  ...      0      0      0      0      0      0      0      0      0   \n",
      "2      0  ...      0      0      0      0      0      0      0      1      0   \n",
      "3      1  ...      0      0      0      0      0      0      0      0      0   \n",
      "4      0  ...      0      0      0      0      0      0      1      0      0   \n",
      "\n",
      "   d1730  \n",
      "0      1  \n",
      "1      0  \n",
      "2      0  \n",
      "3      0  \n",
      "4      0  \n",
      "\n",
      "[5 rows x 35 columns]\n"
     ]
    }
   ],
   "source": [
    "# Generating Dummies\n",
    "# Create a combined education and age column to generate dummies\n",
    "data['edu_age'] = data['education'].astype(str) + data['age'].astype(str)\n",
    "\n",
    "# Create dummies for the unique combinations of education and age\n",
    "dummies = pd.get_dummies(data['edu_age'], prefix='d')\n",
    "\n",
    "# Convert True/False to 1/0 by casting the dummies to integers\n",
    "dummies = dummies.astype(int)\n",
    "\n",
    "# Ensure underscores are removed properly in the column names\n",
    "dummies.columns = dummies.columns.str.replace(r'_+', '', regex=True)\n",
    "\n",
    "# Concatenate the dummy variables with the original dataset\n",
    "data = pd.concat([data, dummies], axis=1)\n",
    "\n",
    "# Display the first few rows to verify\n",
    "print(data.head())"
   ]
  },
  {
   "cell_type": "code",
   "execution_count": 32,
   "metadata": {},
   "outputs": [
    {
     "name": "stdout",
     "output_type": "stream",
     "text": [
      "                            OLS Regression Results                            \n",
      "==============================================================================\n",
      "Dep. Variable:                  lwage   R-squared:                       0.089\n",
      "Model:                            OLS   Adj. R-squared:                  0.059\n",
      "Method:                 Least Squares   F-statistic:                     2.938\n",
      "Date:                Tue, 15 Oct 2024   Prob (F-statistic):           4.90e-07\n",
      "Time:                        20:55:40   Log-Likelihood:                -1099.1\n",
      "No. Observations:                 898   AIC:                             2258.\n",
      "Df Residuals:                     868   BIC:                             2402.\n",
      "Df Model:                          29                                         \n",
      "Covariance Type:            nonrobust                                         \n",
      "==============================================================================\n",
      "                 coef    std err          t      P>|t|      [0.025      0.975]\n",
      "------------------------------------------------------------------------------\n",
      "const          9.4098      0.040    235.212      0.000       9.331       9.488\n",
      "d1226          0.0415      0.096      0.430      0.667      -0.148       0.231\n",
      "d1227         -0.1094      0.091     -1.197      0.232      -0.289       0.070\n",
      "d1228          0.1281      0.090      1.424      0.155      -0.048       0.305\n",
      "d1229         -0.0240      0.092     -0.261      0.794      -0.204       0.156\n",
      "d1230          0.2185      0.094      2.329      0.020       0.034       0.403\n",
      "d1326          0.2023      0.190      1.065      0.287      -0.171       0.575\n",
      "d1327          0.3461      0.190      1.822      0.069      -0.027       0.719\n",
      "d1328         -0.0316      0.173     -0.182      0.855      -0.372       0.309\n",
      "d1329          0.4102      0.220      1.864      0.063      -0.022       0.842\n",
      "d1330          0.0367      0.200      0.183      0.855      -0.357       0.430\n",
      "d1426          0.1709      0.220      0.777      0.438      -0.261       0.603\n",
      "d1427          0.3846      0.170      2.262      0.024       0.051       0.718\n",
      "d1428          0.2324      0.213      1.092      0.275      -0.185       0.650\n",
      "d1429          0.3024      0.173      1.743      0.082      -0.038       0.643\n",
      "d1430          0.2356      0.170      1.386      0.166      -0.098       0.569\n",
      "d1526          0.1248      0.237      0.526      0.599      -0.341       0.590\n",
      "d1527         -0.0242      0.228     -0.106      0.916      -0.472       0.423\n",
      "d1528          0.1634      0.259      0.630      0.529      -0.345       0.672\n",
      "d1529          0.1306      0.247      0.528      0.598      -0.355       0.616\n",
      "d1530          0.5097      0.237      2.150      0.032       0.044       0.975\n",
      "d1626          0.6607      0.167      3.962      0.000       0.333       0.988\n",
      "d1627          0.5346      0.185      2.884      0.004       0.171       0.898\n",
      "d1628          0.5822      0.149      3.918      0.000       0.291       0.874\n",
      "d1629          0.7687      0.133      5.797      0.000       0.508       1.029\n",
      "d1630          0.6608      0.164      4.036      0.000       0.339       0.982\n",
      "d1726          0.5485      0.469      1.169      0.243      -0.372       1.469\n",
      "d1727          0.6360      0.220      2.890      0.004       0.204       1.068\n",
      "d1728          0.7558      0.289      2.616      0.009       0.189       1.323\n",
      "d1729          0.2078      0.407      0.511      0.610      -0.591       1.006\n",
      "d1730          0.6062      0.364      1.664      0.096      -0.109       1.321\n",
      "==============================================================================\n",
      "Omnibus:                      515.749   Durbin-Watson:                   1.963\n",
      "Prob(Omnibus):                  0.000   Jarque-Bera (JB):             6146.047\n",
      "Skew:                          -2.389   Prob(JB):                         0.00\n",
      "Kurtosis:                      14.893   Cond. No.                     5.69e+15\n",
      "==============================================================================\n",
      "\n",
      "Notes:\n",
      "[1] Standard Errors assume that the covariance matrix of the errors is correctly specified.\n",
      "[2] The smallest eigenvalue is 2.96e-29. This might indicate that there are\n",
      "strong multicollinearity problems or that the design matrix is singular.\n"
     ]
    }
   ],
   "source": [
    "# Running the regression\n",
    "\n",
    "# Setting variables\n",
    "X = dummies\n",
    "y = data['lwage']\n",
    "\n",
    "# Add a constant term (intercept) to the model\n",
    "X = sm.add_constant(X)\n",
    "\n",
    "# Run the OLS regression\n",
    "model = sm.OLS(y, X)\n",
    "results = model.fit()\n",
    "\n",
    "# Print the summary of the regression results\n",
    "print(results.summary())\n"
   ]
  },
  {
   "cell_type": "code",
   "execution_count": 33,
   "metadata": {},
   "outputs": [
    {
     "name": "stdout",
     "output_type": "stream",
     "text": [
      "Residual Sum of Squares (RSS): 608.0274467373465\n"
     ]
    }
   ],
   "source": [
    "# Manually calculate the residual sum of squares (RSS)\n",
    "rss = sum(results.resid ** 2)\n",
    "print(f\"Residual Sum of Squares (RSS): {rss}\")"
   ]
  },
  {
   "cell_type": "code",
   "execution_count": 34,
   "metadata": {},
   "outputs": [
    {
     "name": "stdout",
     "output_type": "stream",
     "text": [
      "       Coefficient  Standard Error\n",
      "const     9.409801        0.040006\n",
      "d1226     0.041519        0.096488\n",
      "d1227    -0.109375        0.091412\n",
      "d1228     0.128055        0.089936\n",
      "d1229    -0.023974        0.091796\n",
      "d1230     0.218522        0.093817\n",
      "d1326     0.202320        0.189973\n",
      "d1327     0.346100        0.189973\n",
      "d1328    -0.031643        0.173470\n",
      "d1329     0.410182        0.220017\n",
      "d1330     0.036687        0.200368\n",
      "d1426     0.170857        0.220017\n",
      "d1427     0.384623        0.170014\n",
      "d1428     0.232437        0.212808\n",
      "d1429     0.302398        0.173470\n",
      "d1430     0.235639        0.170014\n",
      "d1526     0.124755        0.237084\n",
      "d1527    -0.024181        0.228053\n",
      "d1528     0.163354        0.259095\n",
      "d1529     0.130560        0.247332\n",
      "d1530     0.509672        0.237084\n",
      "d1626     0.660699        0.166771\n",
      "d1627     0.534626        0.185379\n",
      "d1628     0.582187        0.148589\n",
      "d1629     0.768723        0.132602\n",
      "d1630     0.660790        0.163720\n",
      "d1726     0.548517        0.469077\n",
      "d1727     0.635959        0.220017\n",
      "d1728     0.755847        0.288986\n",
      "d1729     0.207763        0.406725\n",
      "d1730     0.606181        0.364226\n"
     ]
    }
   ],
   "source": [
    "# Get the coefficients (params) and standard errors (bse)\n",
    "coefficients = results.params\n",
    "standard_errors = results.bse\n",
    "\n",
    "# Combine the two into a Pandas DataFrame\n",
    "coef_se_pairs = pd.DataFrame({\n",
    "    'Coefficient': coefficients,\n",
    "    'Standard Error': standard_errors\n",
    "})\n",
    "\n",
    "# Print the DataFrame\n",
    "print(coef_se_pairs)"
   ]
  },
  {
   "cell_type": "markdown",
   "metadata": {},
   "source": [
    "## Part b"
   ]
  },
  {
   "cell_type": "code",
   "execution_count": 35,
   "metadata": {},
   "outputs": [
    {
     "name": "stdout",
     "output_type": "stream",
     "text": [
      "                            OLS Regression Results                            \n",
      "==============================================================================\n",
      "Dep. Variable:                  lwage   R-squared:                       0.089\n",
      "Model:                            OLS   Adj. R-squared:                  0.059\n",
      "Method:                 Least Squares   F-statistic:                     2.938\n",
      "Date:                Tue, 15 Oct 2024   Prob (F-statistic):           4.90e-07\n",
      "Time:                        20:55:40   Log-Likelihood:                -1099.1\n",
      "No. Observations:                 898   AIC:                             2258.\n",
      "Df Residuals:                     868   BIC:                             2402.\n",
      "Df Model:                          29                                         \n",
      "Covariance Type:            nonrobust                                         \n",
      "==============================================================================\n",
      "                 coef    std err          t      P>|t|      [0.025      0.975]\n",
      "------------------------------------------------------------------------------\n",
      "const          9.4098      0.040    235.212      0.000       9.331       9.488\n",
      "d1226          0.0415      0.096      0.430      0.667      -0.148       0.231\n",
      "d1227         -0.1094      0.091     -1.197      0.232      -0.289       0.070\n",
      "d1228          0.1281      0.090      1.424      0.155      -0.048       0.305\n",
      "d1229         -0.0240      0.092     -0.261      0.794      -0.204       0.156\n",
      "d1230          0.2185      0.094      2.329      0.020       0.034       0.403\n",
      "d1326          0.2023      0.190      1.065      0.287      -0.171       0.575\n",
      "d1327          0.3461      0.190      1.822      0.069      -0.027       0.719\n",
      "d1328         -0.0316      0.173     -0.182      0.855      -0.372       0.309\n",
      "d1329          0.4102      0.220      1.864      0.063      -0.022       0.842\n",
      "d1330          0.0367      0.200      0.183      0.855      -0.357       0.430\n",
      "d1426          0.1709      0.220      0.777      0.438      -0.261       0.603\n",
      "d1427          0.3846      0.170      2.262      0.024       0.051       0.718\n",
      "d1428          0.2324      0.213      1.092      0.275      -0.185       0.650\n",
      "d1429          0.3024      0.173      1.743      0.082      -0.038       0.643\n",
      "d1430          0.2356      0.170      1.386      0.166      -0.098       0.569\n",
      "d1526          0.1248      0.237      0.526      0.599      -0.341       0.590\n",
      "d1527         -0.0242      0.228     -0.106      0.916      -0.472       0.423\n",
      "d1528          0.1634      0.259      0.630      0.529      -0.345       0.672\n",
      "d1529          0.1306      0.247      0.528      0.598      -0.355       0.616\n",
      "d1530          0.5097      0.237      2.150      0.032       0.044       0.975\n",
      "d1626          0.6607      0.167      3.962      0.000       0.333       0.988\n",
      "d1627          0.5346      0.185      2.884      0.004       0.171       0.898\n",
      "d1628          0.5822      0.149      3.918      0.000       0.291       0.874\n",
      "d1629          0.7687      0.133      5.797      0.000       0.508       1.029\n",
      "d1630          0.6608      0.164      4.036      0.000       0.339       0.982\n",
      "d1726          0.5485      0.469      1.169      0.243      -0.372       1.469\n",
      "d1727          0.6360      0.220      2.890      0.004       0.204       1.068\n",
      "d1728          0.7558      0.289      2.616      0.009       0.189       1.323\n",
      "d1729          0.2078      0.407      0.511      0.610      -0.591       1.006\n",
      "d1730          0.6062      0.364      1.664      0.096      -0.109       1.321\n",
      "==============================================================================\n",
      "Omnibus:                      515.749   Durbin-Watson:                   1.963\n",
      "Prob(Omnibus):                  0.000   Jarque-Bera (JB):             6146.047\n",
      "Skew:                          -2.389   Prob(JB):                         0.00\n",
      "Kurtosis:                      14.893   Cond. No.                     5.69e+15\n",
      "==============================================================================\n",
      "\n",
      "Notes:\n",
      "[1] Standard Errors assume that the covariance matrix of the errors is correctly specified.\n",
      "[2] The smallest eigenvalue is 2.96e-29. This might indicate that there are\n",
      "strong multicollinearity problems or that the design matrix is singular.\n"
     ]
    }
   ],
   "source": [
    "# Unrestricted Model (with 30 dummy variables)\n",
    "X_unrestricted = dummies  # Assuming 'dummies' contains the 30 dummy variables for education-age combinations\n",
    "X_unrestricted = sm.add_constant(X_unrestricted)  # Add intercept\n",
    "y = data['lwage']  # Dependent variable (log(wage))\n",
    "\n",
    "# Fit the unrestricted model\n",
    "unrestricted_model = sm.OLS(y, X_unrestricted)\n",
    "unrestricted_results = unrestricted_model.fit()\n",
    "\n",
    "# Print results\n",
    "print(unrestricted_results.summary())\n",
    "\n"
   ]
  },
  {
   "cell_type": "code",
   "execution_count": 36,
   "metadata": {},
   "outputs": [
    {
     "name": "stdout",
     "output_type": "stream",
     "text": [
      "Residual Sum of Squares (RSS): 608.0274467373465\n"
     ]
    }
   ],
   "source": [
    "# Manually calculate the residual sum of squares (RSS)\n",
    "rss = sum(unrestricted_results.resid ** 2)\n",
    "print(f\"Residual Sum of Squares (RSS): {rss}\")"
   ]
  },
  {
   "cell_type": "code",
   "execution_count": 37,
   "metadata": {},
   "outputs": [
    {
     "name": "stdout",
     "output_type": "stream",
     "text": [
      "                            OLS Regression Results                            \n",
      "==============================================================================\n",
      "Dep. Variable:                  lwage   R-squared:                       0.064\n",
      "Model:                            OLS   Adj. R-squared:                  0.061\n",
      "Method:                 Least Squares   F-statistic:                     20.48\n",
      "Date:                Tue, 15 Oct 2024   Prob (F-statistic):           7.69e-13\n",
      "Time:                        20:55:40   Log-Likelihood:                -1111.3\n",
      "No. Observations:                 898   AIC:                             2231.\n",
      "Df Residuals:                     894   BIC:                             2250.\n",
      "Df Model:                           3                                         \n",
      "Covariance Type:            nonrobust                                         \n",
      "=======================================================================================\n",
      "                          coef    std err          t      P>|t|      [0.025      0.975]\n",
      "---------------------------------------------------------------------------------------\n",
      "const                   6.1075      4.647      1.314      0.189      -3.014      15.229\n",
      "education               0.1978      0.347      0.571      0.568      -0.482       0.878\n",
      "age                     0.0649      0.166      0.392      0.695      -0.260       0.390\n",
      "edu_age_interaction    -0.0025      0.012     -0.204      0.838      -0.027       0.022\n",
      "==============================================================================\n",
      "Omnibus:                      522.305   Durbin-Watson:                   1.967\n",
      "Prob(Omnibus):                  0.000   Jarque-Bera (JB):             6223.404\n",
      "Skew:                          -2.430   Prob(JB):                         0.00\n",
      "Kurtosis:                      14.946   Cond. No.                     6.34e+04\n",
      "==============================================================================\n",
      "\n",
      "Notes:\n",
      "[1] Standard Errors assume that the covariance matrix of the errors is correctly specified.\n",
      "[2] The condition number is large, 6.34e+04. This might indicate that there are\n",
      "strong multicollinearity or other numerical problems.\n"
     ]
    }
   ],
   "source": [
    "# Restricted Model (with linear education, age, and interaction)\n",
    "data['edu_age_interaction'] = data['education'] * data['age']\n",
    "X_restricted = data[['education', 'age', 'edu_age_interaction']]\n",
    "X_restricted = sm.add_constant(X_restricted)  # Add intercept\n",
    "\n",
    "# Fit the restricted model\n",
    "restricted_model = sm.OLS(y, X_restricted)\n",
    "restricted_results = restricted_model.fit()\n",
    "\n",
    "# Print results\n",
    "print(restricted_results.summary())"
   ]
  },
  {
   "cell_type": "code",
   "execution_count": 38,
   "metadata": {},
   "outputs": [
    {
     "name": "stdout",
     "output_type": "stream",
     "text": [
      "Residual Sum of Squares (RSS): 624.7819133989772\n"
     ]
    }
   ],
   "source": [
    "# Manually calculate the residual sum of squares (RSS)\n",
    "rss = sum(restricted_results.resid ** 2)\n",
    "print(f\"Residual Sum of Squares (RSS): {rss}\")"
   ]
  },
  {
   "cell_type": "code",
   "execution_count": 39,
   "metadata": {},
   "outputs": [
    {
     "name": "stdout",
     "output_type": "stream",
     "text": [
      "F-statistic: 0.9220751750003997\n",
      "p-value: nan\n",
      "Degrees of freedom difference: -26.0\n",
      "Do not reject the null hypothesis at 5% significance level.\n"
     ]
    }
   ],
   "source": [
    "# Calculate the F-statistic for comparing the two models\n",
    "f_statistic = restricted_results.compare_f_test(unrestricted_results)\n",
    "f_value, p_value, df_diff = f_statistic\n",
    "\n",
    "# Print F-statistic, p-value, and degrees of freedom difference\n",
    "print(f\"F-statistic: {f_value}\")\n",
    "print(f\"p-value: {p_value}\")\n",
    "print(f\"Degrees of freedom difference: {df_diff}\")\n",
    "\n",
    "# Check whether to reject the null hypothesis at 5% significance level\n",
    "if p_value < 0.05:\n",
    "    print(\"Reject the null hypothesis at 5% significance level.\")\n",
    "else:\n",
    "    print(\"Do not reject the null hypothesis at 5% significance level.\")"
   ]
  }
 ],
 "metadata": {
  "kernelspec": {
   "display_name": ".venv",
   "language": "python",
   "name": "python3"
  },
  "language_info": {
   "codemirror_mode": {
    "name": "ipython",
    "version": 3
   },
   "file_extension": ".py",
   "mimetype": "text/x-python",
   "name": "python",
   "nbconvert_exporter": "python",
   "pygments_lexer": "ipython3",
   "version": "3.10.11"
  }
 },
 "nbformat": 4,
 "nbformat_minor": 2
}
